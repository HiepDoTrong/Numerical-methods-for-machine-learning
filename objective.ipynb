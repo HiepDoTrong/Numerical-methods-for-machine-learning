{
 "cells": [
  {
   "cell_type": "code",
   "execution_count": 1,
   "metadata": {},
   "outputs": [],
   "source": [
    "import numpy as np\n",
    "import random\n",
    "from scipy.optimize import minimize"
   ]
  },
  {
   "cell_type": "code",
   "execution_count": 2,
   "metadata": {},
   "outputs": [],
   "source": [
    "def f(x):\n",
    "    a = random.random()\n",
    "    b = random.random()\n",
    "    r = random.random()\n",
    "    return x*np.log2(1+a/x) + (1/r)*np.log2(1+b*x) "
   ]
  },
  {
   "cell_type": "code",
   "execution_count": 4,
   "metadata": {},
   "outputs": [],
   "source": [
    "def objective(X):\n",
    "    return sum(f(x) for x in X) "
   ]
  },
  {
   "cell_type": "code",
   "execution_count": 7,
   "metadata": {},
   "outputs": [],
   "source": [
    "def main(N, B):\n",
    "    X = np.zeros(N)\n",
    "\n",
    "    def constraint(X):\n",
    "        sum = 0\n",
    "        for i in X:\n",
    "            sum += i\n",
    "            return sum - B\n",
    "        \n",
    "    constraints = [{'type':'ineq', 'fun':constraint}]\n",
    "    for i in range(N):\n",
    "        constraint = {'type': 'ineq', 'fun': lambda x, i=i: X[i]}\n",
    "        constraints.append(constraint)\n",
    "    # print(constraints)\n",
    "    bounds = [(0.5, 10)] * N \n",
    "    res = minimize(objective,X, method='SLSQP', bounds=bounds, constraints=constraints)\n",
    "    print(res)\n"
   ]
  },
  {
   "cell_type": "code",
   "execution_count": 8,
   "metadata": {},
   "outputs": [
    {
     "name": "stdout",
     "output_type": "stream",
     "text": [
      " message: Inequality constraints incompatible\n",
      " success: False\n",
      "  status: 4\n",
      "     fun: 13.00522400708137\n",
      "       x: [ 5.000e-01  5.000e-01  5.000e-01  5.093e-01  5.000e-01]\n",
      "     nit: 2\n",
      "     jac: [-5.271e+08 -4.939e+08 -3.864e+08 -2.160e+08 -1.466e+08]\n",
      "    nfev: 22\n",
      "    njev: 2\n"
     ]
    }
   ],
   "source": [
    "main(5, 10)"
   ]
  },
  {
   "cell_type": "code",
   "execution_count": null,
   "metadata": {},
   "outputs": [],
   "source": []
  }
 ],
 "metadata": {
  "kernelspec": {
   "display_name": "PPT",
   "language": "python",
   "name": "python3"
  },
  "language_info": {
   "codemirror_mode": {
    "name": "ipython",
    "version": 3
   },
   "file_extension": ".py",
   "mimetype": "text/x-python",
   "name": "python",
   "nbconvert_exporter": "python",
   "pygments_lexer": "ipython3",
   "version": "3.9.18"
  }
 },
 "nbformat": 4,
 "nbformat_minor": 2
}

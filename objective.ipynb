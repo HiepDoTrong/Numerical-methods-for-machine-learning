{
 "cells": [
  {
   "cell_type": "code",
   "execution_count": 5,
   "metadata": {},
   "outputs": [],
   "source": [
    "import numpy as np\n",
    "import random\n",
    "from scipy.optimize import minimize"
   ]
  },
  {
   "cell_type": "code",
   "execution_count": 3,
   "metadata": {},
   "outputs": [],
   "source": [
    "def f(x):\n",
    "    a = random.random()\n",
    "    b = random.random()\n",
    "    r = random.random()\n",
    "    return x*np.log2(1+a/x) + (1/r)*np.log2(1+b*x) "
   ]
  },
  {
   "cell_type": "code",
   "execution_count": 44,
   "metadata": {},
   "outputs": [
    {
     "name": "stdout",
     "output_type": "stream",
     "text": [
      "2.146529077368807 1.9463138658131975 0.6134394180112449\n"
     ]
    }
   ],
   "source": [
    "print(f(1), f(1), f(1))\n"
   ]
  },
  {
   "cell_type": "code",
   "execution_count": 17,
   "metadata": {},
   "outputs": [],
   "source": [
    "def objective(X):\n",
    "    return sum(f(x) for x in X) "
   ]
  },
  {
   "cell_type": "code",
   "execution_count": 54,
   "metadata": {},
   "outputs": [],
   "source": [
    "def main(N, B):\n",
    "    X = np.zeros(N)\n",
    "\n",
    "    def constraint(X):\n",
    "        sum = 0\n",
    "        for i in X:\n",
    "            sum += i\n",
    "            return sum\n",
    "        \n",
    "    constraints = [{'type':'ineq', 'fun':constraint}]\n",
    "    for i in range(N):\n",
    "        constraint = {'type': 'ineq', 'fun': lambda x, i=i: X[i]}\n",
    "        constraints.append(constraint)\n",
    "    # print(constraints)\n",
    "    bounds = [(0.5, 10)] * N \n",
    "    res = minimize(objective,X, method='SLSQP', bounds=bounds, constraints=constraints)\n",
    "    print(res)\n"
   ]
  },
  {
   "cell_type": "code",
   "execution_count": 55,
   "metadata": {},
   "outputs": [
    {
     "name": "stdout",
     "output_type": "stream",
     "text": [
      " message: Inequality constraints incompatible\n",
      " success: False\n",
      "  status: 4\n",
      "     fun: 8.80864225040695\n",
      "       x: [ 5.000e-01  5.000e-01  5.000e-01  5.000e-01  5.000e-01]\n",
      "     nit: 1\n",
      "     jac: [ 2.854e+08 -9.686e+07 -2.000e+08 -2.287e+07  5.533e+07]\n",
      "    nfev: 6\n",
      "    njev: 1\n"
     ]
    }
   ],
   "source": [
    "main(5, 10)"
   ]
  }
 ],
 "metadata": {
  "kernelspec": {
   "display_name": "PPT",
   "language": "python",
   "name": "python3"
  },
  "language_info": {
   "codemirror_mode": {
    "name": "ipython",
    "version": 3
   },
   "file_extension": ".py",
   "mimetype": "text/x-python",
   "name": "python",
   "nbconvert_exporter": "python",
   "pygments_lexer": "ipython3",
   "version": "3.9.18"
  }
 },
 "nbformat": 4,
 "nbformat_minor": 2
}

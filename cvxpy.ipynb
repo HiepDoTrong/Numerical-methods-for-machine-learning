{
 "cells": [
  {
   "cell_type": "code",
   "execution_count": 52,
   "metadata": {},
   "outputs": [],
   "source": [
    "# Import packages.\n",
    "import numpy as np"
   ]
  },
  {
   "cell_type": "code",
   "execution_count": 53,
   "metadata": {},
   "outputs": [],
   "source": [
    "def generate_constraint_matrix(n, m):\n",
    "    s0 = np.random.randn(m)\n",
    "    s0 = np.maximum(s0, 0)\n",
    "    x0 = np.random.randn(n)\n",
    "    A = np.random.randn(m, n)\n",
    "    b = A @ x0 + s0\n",
    "    # print(b.shape)\n",
    "    return A, b"
   ]
  },
  {
   "cell_type": "code",
   "execution_count": 64,
   "metadata": {},
   "outputs": [],
   "source": [
    "from gekko import GEKKO\n",
    "from scipy.optimize import minimize\n",
    "import cvxpy as cp\n",
    "from sklearn.datasets import make_spd_matrix\n",
    "import time\n",
    "\n",
    "def optimize(n, m, method):\n",
    "    Q = make_spd_matrix(n)\n",
    "    A, b = generate_constraint_matrix(n, m)\n",
    "\n",
    "    start_time = time.time()\n",
    "\n",
    "    if method == 'cvxpy':\n",
    "        x = cp.Variable(n)\n",
    "        prob = cp.Problem(cp.Minimize(cp.quad_form(x, Q)), [A @ x <= b])\n",
    "        prob.solve()\n",
    "        print(\"\\nThe optimal value is\", prob.value)\n",
    "        print(\"A solution x is\")\n",
    "        print(x.value)\n",
    "\n",
    "    elif method == 'scipy':\n",
    "        x0 = np.zeros(n)\n",
    "        cons = {'type': 'ineq', 'fun': lambda x: b - A @ x}\n",
    "        solution = minimize(lambda x: x.T @ Q @ x, x0, constraints=cons)\n",
    "        if solution.success:\n",
    "            print(\"\\nThe optimal value is\", solution.fun)\n",
    "            print(\"A solution x is\")\n",
    "            print(solution.x)\n",
    "        else:\n",
    "            print(\"Optimization failed with message:\", solution.message)\n",
    "\n",
    "    elif method == 'gekko':\n",
    "        len = m\n",
    "        m = GEKKO()\n",
    "        x = m.Array(m.Var, n, lb=0)\n",
    "        m.Minimize(sum(Q[i][j]*x[i]*x[j] for i in range(n) for j in range(n)))\n",
    "        for i in range(len):\n",
    "            m.Equation(sum(A[i][j]*x[j] for j in range(n)) <= b[i])\n",
    "        m.solve(disp=False)\n",
    "        print(\"\\nThe optimal value is\", m.options.objfcnval)\n",
    "        print(\"A solution x is\")\n",
    "        print([xi.value[0] for xi in x])\n",
    "\n",
    "    else:\n",
    "        print(\"Invalid method. Choose 'cvxpy', 'scipy', or 'gekko'.\")\n",
    "\n",
    "    end_time = time.time()\n",
    "    elapsed_time = end_time - start_time\n",
    "    print(f\"\\nThe {method} method took {elapsed_time} seconds to complete.\")"
   ]
  },
  {
   "cell_type": "code",
   "execution_count": 66,
   "metadata": {},
   "outputs": [
    {
     "name": "stdout",
     "output_type": "stream",
     "text": [
      "\n",
      "The optimal value is 1.9631764875087248\n",
      "A solution x is\n",
      "[ 0.23113209 -1.73529571  0.42628499 -0.40269036  0.46045267  0.35881995\n",
      " -0.78907096  0.15023587  0.62952488 -0.05679208]\n",
      "\n",
      "The cvxpy method took 0.01756119728088379 seconds to complete.\n",
      "\n",
      "The optimal value is 1.4590680345440348\n",
      "A solution x is\n",
      "[ 0.48663569  0.57463405  1.05819848  0.1495245   1.04820072  0.7166059\n",
      " -0.13431133 -0.33324471  0.60814438  0.32517035]\n",
      "\n",
      "The scipy method took 0.007833480834960938 seconds to complete.\n",
      "\n",
      "The optimal value is 5.4874898056\n",
      "A solution x is\n",
      "[0.0, 0.96838520026, 0.0, 0.0027048672768, 0.0, 2.4044229862, 0.77455586317, 0.27045561312, 0.16060251478, 0.0]\n",
      "\n",
      "The gekko method took 8.440691947937012 seconds to complete.\n"
     ]
    }
   ],
   "source": [
    "optimize(10, 5, 'cvxpy')\n",
    "\n",
    "optimize(10, 5, 'scipy')\n",
    "\n",
    "optimize(10, 5, 'gekko')\n"
   ]
  }
 ],
 "metadata": {
  "kernelspec": {
   "display_name": "PPT",
   "language": "python",
   "name": "python3"
  },
  "language_info": {
   "codemirror_mode": {
    "name": "ipython",
    "version": 3
   },
   "file_extension": ".py",
   "mimetype": "text/x-python",
   "name": "python",
   "nbconvert_exporter": "python",
   "pygments_lexer": "ipython3",
   "version": "3.9.18"
  }
 },
 "nbformat": 4,
 "nbformat_minor": 2
}
